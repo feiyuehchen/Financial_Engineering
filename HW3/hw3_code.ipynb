{
 "cells": [
  {
   "cell_type": "code",
   "execution_count": 10,
   "metadata": {},
   "outputs": [],
   "source": [
    "#input\n",
    "u = 1.5\n",
    "d = 0.5\n",
    "r = 0.18232\n",
    "p = 0.7 #risk-neutral probabilities\n",
    "#non-dividend-paying European call\n",
    "K = 150 #strike price\n",
    "n = 3\n",
    "S = 160 #selling price"
   ]
  },
  {
   "cell_type": "code",
   "execution_count": 79,
   "metadata": {},
   "outputs": [
    {
     "name": "stdout",
     "output_type": "stream",
     "text": [
      "85.07\n",
      "11.88\n"
     ]
    }
   ],
   "source": [
    "#compute R = e^rt, t = 1\n",
    "import math\n",
    "R = round(math.exp(r),2)\n",
    "\n",
    "\n",
    "\n",
    "def payoff(cp, s, K):\n",
    "    if cp == \"call\":\n",
    "        return max(0, s - K)\n",
    "    elif cp == \"put\":\n",
    "        return max(0, K - s)\n",
    "    \n",
    "def PV(cp, n, u, d, p, R, S, K):\n",
    "    payoff_list = []\n",
    "    PV_list = []\n",
    "    for i in range(n+1):\n",
    "        s_temp = S * pow(u, n-i) * pow(d, i)\n",
    "        payoff_list.append(payoff(cp, s_temp, K)) \n",
    "        if i == 1 or i == 2: #because 3!/2! = 3 when i = 1 or 2\n",
    "            PV_list.append(payoff_list[i]*(3*pow(p,n-i)*pow(1-p,i)))\n",
    "        else:\n",
    "            PV_list.append(payoff_list[i]*pow(p,n-i)*pow(1-p,i))\n",
    "     \n",
    "    value = round(sum(PV_list)/pow(R, n), 2)\n",
    "    return value\n",
    "\n",
    "\n",
    "call_value = PV(\"call\", n, u, d, p, R, S, K)\n",
    "put_value = PV(\"put\", n, u, d, p, R, S, K)\n",
    "\n",
    "print(call_value)\n",
    "print(put_value)"
   ]
  },
  {
   "cell_type": "code",
   "execution_count": 60,
   "metadata": {},
   "outputs": [
    {
     "name": "stdout",
     "output_type": "stream",
     "text": [
      "11.88\n"
     ]
    }
   ],
   "source": [
    "#compute put value by put-call parity\n",
    "put_value = round(call_value + K/pow(R,3) - S, 2)\n",
    "print(put_value)"
   ]
  },
  {
   "cell_type": "code",
   "execution_count": null,
   "metadata": {},
   "outputs": [],
   "source": []
  }
 ],
 "metadata": {
  "kernelspec": {
   "display_name": "Python 3",
   "language": "python",
   "name": "python3"
  },
  "language_info": {
   "codemirror_mode": {
    "name": "ipython",
    "version": 3
   },
   "file_extension": ".py",
   "mimetype": "text/x-python",
   "name": "python",
   "nbconvert_exporter": "python",
   "pygments_lexer": "ipython3",
   "version": "3.6.9"
  }
 },
 "nbformat": 4,
 "nbformat_minor": 2
}
