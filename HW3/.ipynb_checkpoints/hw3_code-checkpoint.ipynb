{
 "cells": [
  {
   "cell_type": "code",
   "execution_count": 10,
   "metadata": {},
   "outputs": [],
   "source": [
    "#input\n",
    "u = 1.5\n",
    "d = 0.5\n",
    "r = 0.18232\n",
    "p = 0.7 #risk-neutral probabilities\n",
    "#non-dividend-paying European call\n",
    "K = 150 #strike price\n",
    "n = 3\n",
    "S = 160 #selling price"
   ]
  },
  {
   "cell_type": "code",
   "execution_count": 86,
   "metadata": {},
   "outputs": [
    {
     "name": "stdout",
     "output_type": "stream",
     "text": [
      "85.07\n",
      "11.88\n"
     ]
    }
   ],
   "source": [
    "#compute R = e^rt, t = 1\n",
    "import math\n",
    "R = round(math.exp(r),2)\n",
    "\n",
    "\n",
    "#compute payoff, cp to decide whether it is call or not\n",
    "def payoff(cp, s, K):\n",
    "    if cp == \"call\":\n",
    "        return max(0, s - K)\n",
    "    elif cp == \"put\":\n",
    "        return max(0, K - s)\n",
    "def probability(p, n, i):\n",
    "    fac = math.factorial(n) / (math.factorial(i) * math.factorial(n-i))\n",
    "    prob = fac * pow(p,n-i)*pow(1-p,i)\n",
    "    return prob\n",
    "\n",
    "\n",
    "#n 限制為 3\n",
    "def PV(cp, n , u, d, p, R, S, K):\n",
    "    payoff_list = []           #store payoff in each process\n",
    "    PV_list = []               #pv[i] = payoff[i]*probabilty \n",
    "    for i in range(n+1):\n",
    "        s_temp = S * pow(u, n-i) * pow(d, i)\n",
    "        payoff_list.append(payoff(cp, s_temp, K)) \n",
    "        PV_list.append(payoff_list[i] * probability(p, n, i))\n",
    "\n",
    "    value = round(sum(PV_list)/pow(R, n), 2) #PV of the expected payoff at expiration\n",
    "    return value\n",
    "\n",
    "\n",
    "call_value = PV(\"call\", n, u, d, p, R, S, K)\n",
    "put_value = PV(\"put\", n, u, d, p, R, S, K)\n",
    "\n",
    "print(call_value)\n",
    "print(put_value)"
   ]
  },
  {
   "cell_type": "code",
   "execution_count": 84,
   "metadata": {},
   "outputs": [
    {
     "name": "stdout",
     "output_type": "stream",
     "text": [
      "11.88\n"
     ]
    }
   ],
   "source": [
    "#if we compute put value by put-call parity, we can get the same answer.\n",
    "put_value_byparity = round(call_value + K/pow(R,3) - S, 2)\n",
    "print(put_value_byparity)"
   ]
  },
  {
   "cell_type": "code",
   "execution_count": null,
   "metadata": {},
   "outputs": [],
   "source": []
  }
 ],
 "metadata": {
  "kernelspec": {
   "display_name": "Python 3",
   "language": "python",
   "name": "python3"
  },
  "language_info": {
   "codemirror_mode": {
    "name": "ipython",
    "version": 3
   },
   "file_extension": ".py",
   "mimetype": "text/x-python",
   "name": "python",
   "nbconvert_exporter": "python",
   "pygments_lexer": "ipython3",
   "version": "3.6.9"
  }
 },
 "nbformat": 4,
 "nbformat_minor": 2
}
