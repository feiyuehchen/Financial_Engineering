{
 "cells": [
  {
   "cell_type": "markdown",
   "metadata": {},
   "source": [
    "homework1 本金平均攤還試算\n",
    "經濟系 陳飛岳\n",
    "b06611012"
   ]
  },
  {
   "cell_type": "code",
   "execution_count": null,
   "metadata": {},
   "outputs": [],
   "source": [
    "#get three value\n",
    "\n",
    "print(\"請輸入您的本金（萬元）、期數（年）與年利率（%），且格式為[本金,期數,年利率]\")\n",
    "a = input().split(\",\")\n",
    "money = int(float(a[0]) * 10000) #萬\n",
    "year = int(a[1])\n",
    "interest_rate = float(a[2])\n",
    " \n",
    "#test data\n",
    "\"\"\"\n",
    "money = 10000*10000\n",
    "year = 10\n",
    "interest_rate = 5.6\n",
    "\"\"\""
   ]
  },
  {
   "cell_type": "code",
   "execution_count": null,
   "metadata": {},
   "outputs": [],
   "source": [
    "#declare\n",
    "import math\n",
    "left_money = money #剩餘本金\n",
    "money_permonth_list = list() #每月攤還本金列表\n",
    "interest_permonth_list = list()#平均每月攤還利息列表\n",
    "total = list() #本金利息累計(元)\n",
    "\n",
    "money_permonth = math.ceil(money / (year * 12)) #平均每月攤還本金 #ceil\n",
    "\n",
    "count_list = list() #first column in the dataframe below\n",
    "for i in range(1 , (year*12) + 1):\n",
    "  x = \"第%s期\" %(i)\n",
    "  count_list.append(x)\n",
    "\n",
    "\n",
    "#calculate\n",
    "for i in range(year*12):\n",
    "  interest_permonth = round(left_money * interest_rate / (12 * 100)) #round\n",
    "\n",
    "  #due to the outcome of ceil, there will be little difference in the last element of money_permonth\n",
    "  if left_money > money_permonth: \n",
    "    left_money = left_money - money_permonth\n",
    "  else:\n",
    "    money_permonth = left_money\n",
    "    left_money = 0\n",
    "\n",
    "  interest_permonth_list.append(str(interest_permonth)) \n",
    "  money_permonth_list.append(money_permonth)\n",
    "  if i == 0:\n",
    "    total.append(interest_permonth + money_permonth)\n",
    "  else:\n",
    "    total.append(total[i - 1] + interest_permonth + money_permonth)\n",
    "\n",
    "#calculate sum of interests\n",
    "sum_interest = total[year*12-1] - money\n",
    "\n"
   ]
  },
  {
   "cell_type": "code",
   "execution_count": null,
   "metadata": {},
   "outputs": [],
   "source": [
    "#output\n",
    "import pandas as pd\n",
    "\n",
    "name_list = ['本金', '期數(年)', '年利率', '平均每月攤還本金', '平均每月攤還利息', '全部利息'] #left of the dataframe above\n",
    "value_list = [str(money) + '元' , str(year), str(interest_rate) + '%', str(money_permonth) + '元', \"請參考下表\", str(sum_interest) + '元']\n",
    "\n",
    "df1 = pd.DataFrame(data = {'名稱' : name_list, '數值' : value_list})\n",
    "print(df1)\n",
    "\n",
    "df2 = pd.DataFrame(data = {'' : count_list, '本金（元）' : money_permonth_list, '利息（元）' : interest_permonth_list,\n",
    "'本金利息累計(元)' : total})\n",
    "print(df2)"
   ]
  }
 ],
 "metadata": {
  "kernelspec": {
   "display_name": "Python 3",
   "language": "python",
   "name": "python3"
  },
  "language_info": {
   "codemirror_mode": {
    "name": "ipython",
    "version": 3
   },
   "file_extension": ".py",
   "mimetype": "text/x-python",
   "name": "python",
   "nbconvert_exporter": "python",
   "pygments_lexer": "ipython3",
   "version": "3.7.4"
  }
 },
 "nbformat": 4,
 "nbformat_minor": 2
}
