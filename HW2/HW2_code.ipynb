{
 "cells": [
  {
   "cell_type": "code",
   "execution_count": 159,
   "metadata": {},
   "outputs": [
    {
     "name": "stdout",
     "output_type": "stream",
     "text": [
      "Initial Data\n"
     ]
    }
   ],
   "source": [
    "#input\n",
    "\n",
    "print(\"Initial Data\")\n",
    "\n",
    "\n",
    "market = input(\"請輸入current bond price\")\n",
    "PV = input(\"請輸入bond par value\")\n",
    "c = int(input(\"請輸入bond coupon rate\"))/ 100\n",
    "year = input(\"請輸入years to maturity\")\n",
    "times = [1, 2, 4]\n",
    "m = times[int(input(\"請選擇payments, annually 請輸入 1, semi-annually 請輸入 2, quarterly 請輸入 3\")) - 1]\n"
   ]
  },
  {
   "cell_type": "code",
   "execution_count": 160,
   "metadata": {},
   "outputs": [
    {
     "name": "stdout",
     "output_type": "stream",
     "text": [
      "100.0\n",
      "0.1076923076923077\n"
     ]
    }
   ],
   "source": [
    "#calculate ytm\n",
    "#公式參照流程圖\n",
    "\n",
    "C = PV * c / m\n",
    "ytm = (C + ((PV - market) / year)) / ((PV + market) / 2)\n"
   ]
  },
  {
   "cell_type": "code",
   "execution_count": 163,
   "metadata": {},
   "outputs": [
    {
     "data": {
      "text/plain": [
       "'\\nspot_test = spot(c, year)\\nprint(spot_test) \\n#0.24963025565741592\\n'"
      ]
     },
     "execution_count": 163,
     "metadata": {},
     "output_type": "execute_result"
    }
   ],
   "source": [
    "#calculate spot rate\n",
    "#function\n",
    "#公式參照流程圖\n",
    "\n",
    "def spot(rate, year):\n",
    "    if year == 0:\n",
    "        return 0\n",
    "    else:\n",
    "        s = pow(rate , (-1 / year)) - 1\n",
    "        return s\n",
    "\n",
    "'''\n",
    "spot_test = spot(c, year)\n",
    "print(spot_test) \n",
    "#0.24963025565741592\n",
    "'''\n"
   ]
  },
  {
   "cell_type": "code",
   "execution_count": 175,
   "metadata": {},
   "outputs": [
    {
     "data": {
      "text/plain": [
       "'\\nfoward_test = foward(0.064, 0.082, 3, 5)\\nprint(foward_test)\\n#0.10957256510530211\\n'"
      ]
     },
     "execution_count": 175,
     "metadata": {},
     "output_type": "execute_result"
    }
   ],
   "source": [
    "#calculate foward rate\n",
    "#function\n",
    "#公式參照流程圖\n",
    "\n",
    "def forward(spoti, spotj, i, j):\n",
    "    if spoti == 0 or spotj == 0 or i == j:\n",
    "        return str(0)\n",
    "    else:\n",
    "        f = pow((pow((1+spotj), j) / pow((1+spoti), i)), (1 / (j-i))) - 1\n",
    "        return f\n",
    "\n",
    "'''\n",
    "foward_test = foward(0.064, 0.082, 3, 5)\n",
    "print(foward_test)\n",
    "#0.10957256510530211\n",
    "'''"
   ]
  },
  {
   "cell_type": "code",
   "execution_count": 176,
   "metadata": {},
   "outputs": [
    {
     "name": "stdout",
     "output_type": "stream",
     "text": [
      "    0  1            2            3            4            5            6  \\\n",
      "0   0  0            0            0            0            0            0   \n",
      "1   x  0 -2.22045e-16 -3.33067e-16 -1.11022e-16            0 -1.11022e-16   \n",
      "2   x  x            0 -3.33067e-16            0  2.22045e-16            0   \n",
      "3   x  x            x            0  4.44089e-16  4.44089e-16            0   \n",
      "4   x  x            x            x            0  4.44089e-16 -1.11022e-16   \n",
      "5   x  x            x            x            x            0 -6.66134e-16   \n",
      "6   x  x            x            x            x            x            0   \n",
      "7   x  x            x            x            x            x            x   \n",
      "8   x  x            x            x            x            x            x   \n",
      "9   x  x            x            x            x            x            x   \n",
      "10  x  x            x            x            x            x            x   \n",
      "\n",
      "              7            8            9           10  \n",
      "0             0            0            0            0  \n",
      "1             0            0            0            0  \n",
      "2             0            0            0            0  \n",
      "3   2.22045e-16            0            0  2.22045e-16  \n",
      "4   2.22045e-16            0            0            0  \n",
      "5  -1.11022e-16 -2.22045e-16 -1.11022e-16            0  \n",
      "6   4.44089e-16            0  2.22045e-16  2.22045e-16  \n",
      "7             0 -5.55112e-16 -1.11022e-16  2.22045e-16  \n",
      "8             x            0  4.44089e-16  4.44089e-16  \n",
      "9             x            x            0  4.44089e-16  \n",
      "10            x            x            x            0  \n"
     ]
    }
   ],
   "source": [
    "#calculate & output\n",
    "\n",
    "import pandas as pd\n",
    "\n",
    "\n",
    "df = []\n",
    "for i in range(year+1):\n",
    "    col = []\n",
    "    for j in range(year+1):\n",
    "        if i > j:\n",
    "            fij = \"x\"\n",
    "        else:\n",
    "            fij = forward(spot(c, i), spot(c, j), i, j)\n",
    "        col.append(fij)\n",
    "    \n",
    "    df.append(col)\n",
    "    \n",
    "    \n",
    "output = pd.DataFrame(df) #output as dataframe\n",
    "\n",
    "print(output)\n",
    "\n",
    "\n",
    "    "
   ]
  }
 ],
 "metadata": {
  "kernelspec": {
   "display_name": "Python 3",
   "language": "python",
   "name": "python3"
  },
  "language_info": {
   "codemirror_mode": {
    "name": "ipython",
    "version": 3
   },
   "file_extension": ".py",
   "mimetype": "text/x-python",
   "name": "python",
   "nbconvert_exporter": "python",
   "pygments_lexer": "ipython3",
   "version": "3.7.4"
  }
 },
 "nbformat": 4,
 "nbformat_minor": 2
}
