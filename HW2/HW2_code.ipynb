{
 "cells": [
  {
   "cell_type": "code",
   "execution_count": 52,
   "metadata": {},
   "outputs": [
    {
     "name": "stdout",
     "output_type": "stream",
     "text": [
      "Initial Data\n"
     ]
    }
   ],
   "source": [
    "#input\n",
    "#頁面參考 calkoo.com/en/ytm-calculater\n",
    "\n",
    "print(\"Initial Data\")\n",
    "\n",
    "'''\n",
    "market = input(\"請輸入current bond price\")\n",
    "PV = input(\"請輸入bond par value\")\n",
    "c = int(input(\"請輸入bond coupon rate\"))/ 100\n",
    "year = input(\"請輸入years to maturity\")\n",
    "times = [1, 2, 4]\n",
    "m = times[int(input(\"請選擇payments, annually 請輸入 1, semi-annually 請輸入 2, quarterly 請輸入 3\")) - 1]\n",
    "'''\n",
    "\n",
    "\n",
    "#test file\n",
    "market, PV, c, year, m = 950, 1000, (10/100), 10, 1\n",
    "\n",
    "market, PV, c, year, m = 1200, 1500, (10/100), 10, 1\n",
    "market, PV, c, year, m = 5200, 5100, (5/100), 3, 1\n",
    "market, PV, c, year, m = 950, 1000, (10/100), 10, 2"
   ]
  },
  {
   "cell_type": "code",
   "execution_count": 53,
   "metadata": {},
   "outputs": [
    {
     "name": "stdout",
     "output_type": "stream",
     "text": [
      "50.0\n",
      "0.05641025641025641\n"
     ]
    }
   ],
   "source": [
    "#calculate ytm\n",
    "#公式參照流程圖\n",
    "\n",
    "C = PV * c / m\n",
    "print(C)\n",
    "\n",
    "ytm = (C + ((PV - market) / year)) / ((PV + market) / 2)\n",
    "print(ytm)"
   ]
  },
  {
   "cell_type": "code",
   "execution_count": null,
   "metadata": {},
   "outputs": [],
   "source": [
    "#calculate spot rate\n",
    "\n",
    "\n"
   ]
  }
 ],
 "metadata": {
  "kernelspec": {
   "display_name": "Python 3",
   "language": "python",
   "name": "python3"
  },
  "language_info": {
   "codemirror_mode": {
    "name": "ipython",
    "version": 3
   },
   "file_extension": ".py",
   "mimetype": "text/x-python",
   "name": "python",
   "nbconvert_exporter": "python",
   "pygments_lexer": "ipython3",
   "version": "3.7.4"
  }
 },
 "nbformat": 4,
 "nbformat_minor": 2
}
