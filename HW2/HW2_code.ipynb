{
 "cells": [
  {
   "cell_type": "code",
   "execution_count": null,
   "metadata": {},
   "outputs": [],
   "source": [
    "#input\n",
    "\n",
    "print(\"Initial Data\")\n",
    "\n",
    "\n",
    "market = input(\"請輸入current bond price\")\n",
    "PV = input(\"請輸入bond par value\")\n",
    "c = int(input(\"請輸入bond coupon rate\"))/ 100\n",
    "year = input(\"請輸入years to maturity\")\n",
    "times = [1, 2, 4]\n",
    "m = times[int(input(\"請選擇payments, annually 請輸入 1, semi-annually 請輸入 2, quarterly 請輸入 3\")) - 1]\n"
   ]
  },
  {
   "cell_type": "code",
   "execution_count": null,
   "metadata": {},
   "outputs": [],
   "source": [
    "#calculate ytm\n",
    "#公式參照流程圖\n",
    "\n",
    "C = PV * c / m\n",
    "ytm = (C + ((PV - market) / year)) / ((PV + market) / 2)\n"
   ]
  },
  {
   "cell_type": "code",
   "execution_count": null,
   "metadata": {},
   "outputs": [],
   "source": [
    "#calculate spot rate\n",
    "#function\n",
    "#公式參照流程圖\n",
    "\n",
    "def spot(rate, year):\n",
    "    if year == 0:\n",
    "        return 0\n",
    "    else:\n",
    "        s = pow(rate , (-1 / year)) - 1\n",
    "        return s\n",
    "\n",
    "'''\n",
    "spot_test = spot(c, year)\n",
    "print(spot_test) \n",
    "#0.24963025565741592\n",
    "'''\n"
   ]
  },
  {
   "cell_type": "code",
   "execution_count": null,
   "metadata": {},
   "outputs": [],
   "source": [
    "#calculate foward rate\n",
    "#function\n",
    "#公式參照流程圖\n",
    "\n",
    "def forward(spoti, spotj, i, j):\n",
    "    if spoti == 0 or spotj == 0 or i == j:\n",
    "        return str(0)\n",
    "    else:\n",
    "        f = pow((pow((1+spotj), j) / pow((1+spoti), i)), (1 / (j-i))) - 1\n",
    "        return f\n",
    "\n",
    "'''\n",
    "foward_test = foward(0.064, 0.082, 3, 5)\n",
    "print(foward_test)\n",
    "#0.10957256510530211\n",
    "'''"
   ]
  },
  {
   "cell_type": "code",
   "execution_count": null,
   "metadata": {},
   "outputs": [],
   "source": [
    "#calculate & output\n",
    "\n",
    "import pandas as pd\n",
    "\n",
    "\n",
    "df = []\n",
    "for i in range(year+1):\n",
    "    col = []\n",
    "    for j in range(year+1):\n",
    "        if i > j:\n",
    "            fij = \"x\"\n",
    "        else:\n",
    "            fij = forward(spot(c, i), spot(c, j), i, j)\n",
    "        col.append(fij)\n",
    "    \n",
    "    df.append(col)\n",
    "    \n",
    "    \n",
    "output = pd.DataFrame(df) #output as dataframe\n",
    "\n",
    "print(output)"
   ]
  }
 ],
 "metadata": {
  "kernelspec": {
   "display_name": "Python 3",
   "language": "python",
   "name": "python3"
  },
  "language_info": {
   "codemirror_mode": {
    "name": "ipython",
    "version": 3
   },
   "file_extension": ".py",
   "mimetype": "text/x-python",
   "name": "python",
   "nbconvert_exporter": "python",
   "pygments_lexer": "ipython3",
   "version": "3.7.4"
  }
 },
 "nbformat": 4,
 "nbformat_minor": 2
}
