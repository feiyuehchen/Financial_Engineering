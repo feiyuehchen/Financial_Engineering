{
 "cells": [
  {
   "cell_type": "markdown",
   "metadata": {},
   "source": [
    "作業四題目如下圖：\n",
    "<img src=\"image/hw_q.jpg\">"
   ]
  },
  {
   "cell_type": "markdown",
   "metadata": {},
   "source": [
    "1.先設定各項變數"
   ]
  },
  {
   "cell_type": "code",
   "execution_count": 1,
   "metadata": {},
   "outputs": [],
   "source": [
    "#input\n",
    "S = 75\n",
    "vol = 0.35\n",
    "r = 0.06\n",
    "K = 65\n",
    "t = 6/12 #6month\n",
    "d_time = [1/12, 4/12] #"
   ]
  },
  {
   "cell_type": "code",
   "execution_count": null,
   "metadata": {},
   "outputs": [],
   "source": [
    "2. "
   ]
  },
  {
   "cell_type": "code",
   "execution_count": 23,
   "metadata": {},
   "outputs": [
    {
     "name": "stdout",
     "output_type": "stream",
     "text": [
      "D is 1.9752111524994376\n",
      "S_hat is 73.02478884750056\n"
     ]
    }
   ],
   "source": [
    "#compute dividend D\n",
    "import math\n",
    "\n",
    "def dividend(r, d_time):\n",
    "    d = 0\n",
    "    for i in range(len(time)):\n",
    "        d += math.exp(-r * time[i])\n",
    "    return d\n",
    "    \n",
    "\n",
    "\n",
    "D = round(dividend(r, d_time), 4) #round\n",
    "print(\"D is\",D)\n",
    "\n",
    "#compute S-hat = S - D\n",
    "\n",
    "S_hat = S -  D\n",
    "print(\"S_hat is\", S_hat)"
   ]
  },
  {
   "cell_type": "code",
   "execution_count": 18,
   "metadata": {},
   "outputs": [
    {
     "name": "stdout",
     "output_type": "stream",
     "text": [
      "d1 is 0.7153\n",
      "d2 is 0.4678\n"
     ]
    }
   ],
   "source": [
    "#compute d1 and d2\n",
    "\n",
    "\n",
    "def d_one(S_hat, K, r, vol, t):\n",
    "    d1 = round((math.log(S_hat/K) + (r+pow(vol,2)/2) * t) / (vol * pow(t, 1/2)) , 4)\n",
    "\n",
    "def d_two(S_hat, K, r, vol, T)\n",
    "d2 = round(d1 - vol * pow(t, 1/2), 4)\n",
    "\n",
    "print(\"d1 is\", d1)\n",
    "print(\"d2 is\", d2)\n",
    "\n"
   ]
  },
  {
   "cell_type": "code",
   "execution_count": 20,
   "metadata": {},
   "outputs": [
    {
     "name": "stdout",
     "output_type": "stream",
     "text": [
      "0.23721184428315395\n"
     ]
    },
    {
     "data": {
      "text/plain": [
       "0.6800361896882328"
      ]
     },
     "execution_count": 20,
     "metadata": {},
     "output_type": "execute_result"
    }
   ],
   "source": [
    "import scipy.stats as st\n",
    "\n",
    "print(st.norm.cdf(-d1))\n",
    "st.norm.cdf(d2)"
   ]
  },
  {
   "cell_type": "code",
   "execution_count": null,
   "metadata": {},
   "outputs": [],
   "source": []
  }
 ],
 "metadata": {
  "kernelspec": {
   "display_name": "Python 3",
   "language": "python",
   "name": "python3"
  },
  "language_info": {
   "codemirror_mode": {
    "name": "ipython",
    "version": 3
   },
   "file_extension": ".py",
   "mimetype": "text/x-python",
   "name": "python",
   "nbconvert_exporter": "python",
   "pygments_lexer": "ipython3",
   "version": "3.6.9"
  }
 },
 "nbformat": 4,
 "nbformat_minor": 2
}
