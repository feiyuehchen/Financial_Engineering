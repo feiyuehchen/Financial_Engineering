{
 "cells": [
  {
   "cell_type": "markdown",
   "metadata": {},
   "source": [
    "注意：在jupyter notebook中，我有更改圖片大小，但github上似乎沒有跟著更改圖片大小，還請見諒 /n\n",
    "作業四題目如下圖：\n",
    "<img src=\"image/hw_q.jpg\" alt=\"Drawing\" style=\"width: 600px;\"/>   \n",
    "1.先設定各項變數"
   ]
  },
  {
   "cell_type": "code",
   "execution_count": null,
   "metadata": {},
   "outputs": [],
   "source": [
    "#input\n",
    "S = 75\n",
    "vol = 0.35\n",
    "r = 0.06\n",
    "K = 65\n",
    "t = 6/12 #6month\n",
    "d = 1\n",
    "d_time = [1/12, 4/12] #time paying dividends"
   ]
  },
  {
   "cell_type": "markdown",
   "metadata": {},
   "source": [
    "2.計算 D 和 S_hat\n",
    "公式如下圖：\n",
    "<img src=\"image/DSformula.jpg\" alt=\"Drawing\" style=\"width: 400px;\"/>                                          "
   ]
  },
  {
   "cell_type": "code",
   "execution_count": 35,
   "metadata": {},
   "outputs": [
    {
     "name": "stdout",
     "output_type": "stream",
     "text": [
      "D is 1.9752\n",
      "S_hat is 73.0248\n"
     ]
    }
   ],
   "source": [
    "#compute dividend D\n",
    "import math\n",
    "\n",
    "#use function to make code flexible\n",
    "#discrete dividends\n",
    "#all di are same\n",
    "def dividend(r, d_time, d):\n",
    "    x = 0\n",
    "    for i in range(len(d_time)):\n",
    "        x += d * math.exp(-r * d_time[i])\n",
    "    return x\n",
    "\n",
    "\n",
    "D = round(dividend(r, d_time, d), 4) #round\n",
    "print(\"D is\",D)\n",
    "\n",
    "#compute S-hat = S - D\n",
    "\n",
    "S_hat = S - D\n",
    "print(\"S_hat is\", S_hat)"
   ]
  },
  {
   "cell_type": "markdown",
   "metadata": {},
   "source": [
    "3.計算 d1 和 d2\n",
    "公式如下圖：\n",
    "<img src=\"image/d1formula.jpg\" alt=\"Drawing\" style=\"width: 300px;\"/>\n",
    "<img src=\"image/d2formula.jpg\" alt=\"Drawing\" style=\"width: 200px;\"/>"
   ]
  },
  {
   "cell_type": "code",
   "execution_count": 31,
   "metadata": {
    "scrolled": true
   },
   "outputs": [
    {
     "name": "stdout",
     "output_type": "stream",
     "text": [
      "d1 is 0.7153\n",
      "d2 is 0.4678\n"
     ]
    }
   ],
   "source": [
    "#compute d1 and d2\n",
    "\n",
    "\n",
    "def d_one(S_hat, K, r, vol, t):\n",
    "    d1 = round((math.log(S_hat/K) + (r+pow(vol,2)/2) * t) / (vol * pow(t, 1/2)) , 4)\n",
    "\n",
    "def d_two(S_hat, K, r, vol, t):\n",
    "    d2 = round(d1 - vol * pow(t, 1/2), 4)\n",
    "\n",
    "print(\"d1 is\", d1)\n",
    "print(\"d2 is\", d2)\n",
    "\n"
   ]
  },
  {
   "cell_type": "markdown",
   "metadata": {},
   "source": [
    "4.計算call option和put option的價格\n",
    "公式如下圖：\n",
    "<img src=\"image/cpformula.jpeg\" alt=\"Drawing\" style=\"width: 500px;\"/>"
   ]
  },
  {
   "cell_type": "code",
   "execution_count": 41,
   "metadata": {},
   "outputs": [
    {
     "name": "stdout",
     "output_type": "stream",
     "text": [
      "call price is: 12.81\n",
      "put price is: 2.86\n"
     ]
    }
   ],
   "source": [
    "import scipy.stats as st\n",
    "\n",
    "def call_price(S_hat, d1, K, r, t, d2):\n",
    "    price = S_hat * st.norm.cdf(d1) - K * math.exp(-r*t) * st.norm.cdf(d2)\n",
    "    return round(price, 2)\n",
    "\n",
    "def put_price(S_hat, d1, K, r, t, d2):\n",
    "    price = K * math.exp(-r*t) * st.norm.cdf(-d2) - S_hat * st.norm.cdf(-d1) \n",
    "    return round(price, 2)\n",
    "\n",
    "c = call_price(S_hat, d1, K, r, t, d2)\n",
    "p = put_price(S_hat, d1, K, r, t, d2)\n",
    "\n",
    "print(\"call price is:\", c)\n",
    "print(\"put price is:\", p)"
   ]
  }
 ],
 "metadata": {
  "kernelspec": {
   "display_name": "Python 3",
   "language": "python",
   "name": "python3"
  },
  "language_info": {
   "codemirror_mode": {
    "name": "ipython",
    "version": 3
   },
   "file_extension": ".py",
   "mimetype": "text/x-python",
   "name": "python",
   "nbconvert_exporter": "python",
   "pygments_lexer": "ipython3",
   "version": "3.6.9"
  }
 },
 "nbformat": 4,
 "nbformat_minor": 2
}
